{
  "nbformat": 4,
  "nbformat_minor": 0,
  "metadata": {
    "colab": {
      "name": "Standardzation.ipynb",
      "provenance": [],
      "authorship_tag": "ABX9TyNzbbNohHJ4Q5c9kn6XuS3C",
      "include_colab_link": true
    },
    "kernelspec": {
      "name": "python3",
      "display_name": "Python 3"
    },
    "language_info": {
      "name": "python"
    }
  },
  "cells": [
    {
      "cell_type": "markdown",
      "metadata": {
        "id": "view-in-github",
        "colab_type": "text"
      },
      "source": [
        "<a href=\"https://colab.research.google.com/github/maggie8801/Standardzation_test/blob/main/Standardzation.ipynb\" target=\"_parent\"><img src=\"https://colab.research.google.com/assets/colab-badge.svg\" alt=\"Open In Colab\"/></a>"
      ]
    },
    {
      "cell_type": "markdown",
      "metadata": {
        "id": "30KwRQU4mVrv"
      },
      "source": [
        "### Z-score"
      ]
    },
    {
      "cell_type": "markdown",
      "metadata": {
        "id": "ENUvV7-GnfUw"
      },
      "source": [
        "#### import package"
      ]
    },
    {
      "cell_type": "code",
      "metadata": {
        "id": "mKbKPEJYmf3M"
      },
      "source": [
        "import numpy as np\n",
        "from scipy import stats"
      ],
      "execution_count": 5,
      "outputs": []
    },
    {
      "cell_type": "code",
      "metadata": {
        "colab": {
          "base_uri": "https://localhost:8080/"
        },
        "id": "bZ65Cvkrmuhm",
        "outputId": "34976222-3b7a-4599-ba79-0d5fd0e18432"
      },
      "source": [
        "data = np.array([200,300,400,600,1000])\n",
        "data"
      ],
      "execution_count": 6,
      "outputs": [
        {
          "output_type": "execute_result",
          "data": {
            "text/plain": [
              "array([ 200,  300,  400,  600, 1000])"
            ]
          },
          "metadata": {},
          "execution_count": 6
        }
      ]
    },
    {
      "cell_type": "code",
      "metadata": {
        "colab": {
          "base_uri": "https://localhost:8080/"
        },
        "id": "k6Lv1_9Um1L4",
        "outputId": "674d4c7a-566e-4622-c173-eb80abf8ab2d"
      },
      "source": [
        "type(data) #得知型態為陣列"
      ],
      "execution_count": 7,
      "outputs": [
        {
          "output_type": "execute_result",
          "data": {
            "text/plain": [
              "numpy.ndarray"
            ]
          },
          "metadata": {},
          "execution_count": 7
        }
      ]
    },
    {
      "cell_type": "code",
      "metadata": {
        "colab": {
          "base_uri": "https://localhost:8080/"
        },
        "id": "MYboKmKJqeZA",
        "outputId": "39b0b307-dc1f-46b9-aac4-155e7d8e23ca"
      },
      "source": [
        "data.shape #看維度 #前面是roll後面是column #得知data為一維資料"
      ],
      "execution_count": 18,
      "outputs": [
        {
          "output_type": "execute_result",
          "data": {
            "text/plain": [
              "(5,)"
            ]
          },
          "metadata": {},
          "execution_count": 18
        }
      ]
    },
    {
      "cell_type": "code",
      "metadata": {
        "colab": {
          "base_uri": "https://localhost:8080/"
        },
        "id": "KOv3SN-qoGfm",
        "outputId": "915e1544-3bcd-4f95-e7fc-8db78fca99b1"
      },
      "source": [
        "zscore = stats.zscore(data)\n",
        "zscore"
      ],
      "execution_count": 25,
      "outputs": [
        {
          "output_type": "execute_result",
          "data": {
            "text/plain": [
              "array([-1.06066017, -0.70710678, -0.35355339,  0.35355339,  1.76776695])"
            ]
          },
          "metadata": {},
          "execution_count": 25
        }
      ]
    },
    {
      "cell_type": "markdown",
      "metadata": {
        "id": "TA4wkrgWo8sB"
      },
      "source": [
        "### Min-Max"
      ]
    },
    {
      "cell_type": "markdown",
      "metadata": {
        "id": "CETFdpUfpIJC"
      },
      "source": [
        "#### import package"
      ]
    },
    {
      "cell_type": "code",
      "metadata": {
        "colab": {
          "base_uri": "https://localhost:8080/"
        },
        "id": "DRzisaoXpDFV",
        "outputId": "82db7d15-a561-4bf9-dac2-29d55dc70575"
      },
      "source": [
        "from sklearn.preprocessing import MinMaxScaler\n",
        "scaler = MinMaxScaler() #這個套件只支援二維資料\n",
        "data2 = np.array([[200],[300],[400],[600],[1000]]) #將資料打成二維形式\n",
        "data2"
      ],
      "execution_count": 20,
      "outputs": [
        {
          "output_type": "execute_result",
          "data": {
            "text/plain": [
              "array([[ 200],\n",
              "       [ 300],\n",
              "       [ 400],\n",
              "       [ 600],\n",
              "       [1000]])"
            ]
          },
          "metadata": {},
          "execution_count": 20
        }
      ]
    },
    {
      "cell_type": "code",
      "metadata": {
        "colab": {
          "base_uri": "https://localhost:8080/"
        },
        "id": "FrHBRstSpGeo",
        "outputId": "5d688510-3a96-4efb-a8ae-173f68e0a97a"
      },
      "source": [
        "data2.shape #得知data2為二維資料"
      ],
      "execution_count": 19,
      "outputs": [
        {
          "output_type": "execute_result",
          "data": {
            "text/plain": [
              "(5, 1)"
            ]
          },
          "metadata": {},
          "execution_count": 19
        }
      ]
    },
    {
      "cell_type": "code",
      "metadata": {
        "colab": {
          "base_uri": "https://localhost:8080/"
        },
        "id": "kMSyUiZxrZ4C",
        "outputId": "da1ecafa-6ed3-49d8-cf2c-026e42f3927a"
      },
      "source": [
        "minmax = scaler.fit_transform(data2) #做演算法先fit進去訓練再transform\n",
        "minmax"
      ],
      "execution_count": 22,
      "outputs": [
        {
          "output_type": "execute_result",
          "data": {
            "text/plain": [
              "array([[0.   ],\n",
              "       [0.125],\n",
              "       [0.25 ],\n",
              "       [0.5  ],\n",
              "       [1.   ]])"
            ]
          },
          "metadata": {},
          "execution_count": 22
        }
      ]
    },
    {
      "cell_type": "code",
      "metadata": {
        "colab": {
          "base_uri": "https://localhost:8080/"
        },
        "id": "7-_Xe65CsBqw",
        "outputId": "9544e90e-5139-4364-e669-45748f73fa6d"
      },
      "source": [
        "print(data2)\n",
        "print(data2.shape)"
      ],
      "execution_count": 24,
      "outputs": [
        {
          "output_type": "stream",
          "name": "stdout",
          "text": [
            "[[ 200]\n",
            " [ 300]\n",
            " [ 400]\n",
            " [ 600]\n",
            " [1000]]\n",
            "(5, 1)\n"
          ]
        }
      ]
    },
    {
      "cell_type": "code",
      "metadata": {
        "id": "Fl26RTAXsLeN"
      },
      "source": [
        ""
      ],
      "execution_count": null,
      "outputs": []
    }
  ]
}